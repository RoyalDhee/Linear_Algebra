{
 "cells": [
  {
   "cell_type": "markdown",
   "id": "e62791c4",
   "metadata": {},
   "source": [
    "## Take Home Task"
   ]
  },
  {
   "cell_type": "markdown",
   "id": "b6e26c60",
   "metadata": {},
   "source": [
    "#### Chi Square Test"
   ]
  },
  {
   "cell_type": "markdown",
   "id": "2a3f625b",
   "metadata": {},
   "source": [
    "A chi-square (χ2) statistic is a test that compares observed data to the model and measures its fit. It measures the size of any discrepancies between expected result and the actual result using degree of figure to determine if a certain null hypothesis can be rejected based on the total number of variables and samples within the experiment. They are used for categorical data where order does not matter. chi square are used to test whether two variables are related or independent of each other. <br>\n",
    "\n",
    "Mainly there are 2 types of chi square tests\n",
    "\n",
    "1. The test of independence which asks a question of relationship i.e \"Is there a relationship between a car brand and gender?\"\n",
    "\n",
    "2. The goodness of fit test which asks a theorical question \"How well a sample data (known or assumed) matches the characteristics of the larger population sample it is intended to represent\n",
    "\n",
    "Basically chi test are used to help determine if the observed result are in line with the expected result\n",
    "\n",
    "chi Test is represented mathematically as\n",
    "\n",
    "\n",
    "$$ \n",
    "\\chi^2 = \\sum \\frac{(O_i - E_i)^2}{E_i}\n",
    "\n",
    "$$ \n",
    "where; <br>\n",
    "c = Degree of freedom <br>\n",
    "O = Observed value(s) <br>\n",
    "E = Expected value(s)\n"
   ]
  },
  {
   "cell_type": "markdown",
   "id": "814b8291",
   "metadata": {},
   "source": [
    "##### Analysis of Variance (ANOVA)"
   ]
  },
  {
   "cell_type": "markdown",
   "id": "e1fddf34",
   "metadata": {},
   "source": [
    "ANOVA is a statistical test used to assess the difference between the means of more than two groups. At its core, ANOVA allows comparison of arithmetic means across groups simultaneously. You can determine whether the differences observed are due to random chance or if they reflect genuine, meaningful differences. There can be one way ANOVA which uses one dependent variable or a two-way anova which uses two independent variables.Anova can handle multiple factors and their interactions. ANOVA is usually employed when there is no access to statistical software by using hand computation\n",
    "\n",
    "ANOVA can be represented mathematically as \n",
    "\n",
    "$$ F = \\frac{MST}{MSE} $$"
   ]
  }
 ],
 "metadata": {
  "language_info": {
   "name": "python"
  }
 },
 "nbformat": 4,
 "nbformat_minor": 5
}

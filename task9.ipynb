{
 "cells": [
  {
   "cell_type": "markdown",
   "id": "e62791c4",
   "metadata": {},
   "source": [
    "## Take Home Task"
   ]
  },
  {
   "cell_type": "markdown",
   "id": "b6e26c60",
   "metadata": {},
   "source": [
    "#### Chi Square Test"
   ]
  },
  {
   "cell_type": "markdown",
   "id": "2a3f625b",
   "metadata": {},
   "source": [
    "A chi-square (χ2) statistic is a test that compares observed data to the model and measures its fit. It measures the size of any discrepancies between expected result and the actual result using degree of figure to determine if a certain null hypothesis can be rejected based on the total number of variables and samples within the experiment. They are used for categorical data where order does not matter. chi square are used to test whether two variables are related or independent of each other. <br>\n",
    "\n",
    "Mainly there are 2 types of chi square tests\n",
    "\n",
    "1. The test of independence which asks a question of relationship i.e \"Is there a relationship between a car brand and gender?\"\n",
    "\n",
    "2. The goodness of fit test which asks a theorical question \"How well a sample data (known or assumed) matches the characteristics of the larger population sample it is intended to represent\n",
    "\n",
    "Basically chi test are used to help determine if the observed result are in line with the expected result\n",
    "\n",
    "chi Test is represented mathematically as\n",
    "\n",
    "\n",
    "$$ \n",
    "\\chi^2 = \\sum \\frac{(O_i - E_i)^2}{E_i}\n",
    "\n",
    "$$ \n",
    "where; <br>\n",
    "c = Degree of freedom <br>\n",
    "O = Observed value(s) <br>\n",
    "E = Expected value(s)\n"
   ]
  },
  {
   "cell_type": "markdown",
   "id": "814b8291",
   "metadata": {},
   "source": [
    "##### Analysis of Variance (ANOVA)"
   ]
  },
  {
   "cell_type": "markdown",
   "id": "e1fddf34",
   "metadata": {},
   "source": [
    "ANOVA is a statistical test used to assess the difference between the means of more than two groups. At its core, ANOVA allows comparison of arithmetic means across groups simultaneously. You can determine whether the differences observed are due to random chance or if they reflect genuine, meaningful differences. There can be one way ANOVA which uses one dependent variable or a two-way anova which uses two independent variables.Anova can handle multiple factors and their interactions. ANOVA is usually employed when there is no access to statistical software by using hand computation\n",
    "\n",
    "ANOVA can be represented mathematically as \n",
    "\n",
    "$$ F = \\frac{MST}{MSE} $$\n",
    "\n",
    "where; <br>\n",
    "F = ANOVA coefficient\n",
    "MST = Mean sum of squares due to treatment\n",
    "MSE = Mean sum of square due to error"
   ]
  },
  {
   "cell_type": "markdown",
   "id": "70759415",
   "metadata": {},
   "source": [
    "##### Two Tailed Tests"
   ]
  },
  {
   "cell_type": "markdown",
   "id": "ca0dd8e6",
   "metadata": {},
   "source": [
    "This is not a test itself but a characteristic of how a test is set up. This is a concept related to the directionality of the alternative hypothesis in a test (like a t-test or z-test). A two-tailed test in statistics evaluates whether a sample significantly differs from a population mean, either exceeding or falling short\n",
    "\n",
    "it is used When interested in detecting any significant difference from the null hypothesis value, regardless of the direction.It is said to be a default approach and applicable in diverse fields\n"
   ]
  },
  {
   "cell_type": "markdown",
   "id": "b25539a1",
   "metadata": {},
   "source": [
    "##### Proportion Tests"
   ]
  },
  {
   "cell_type": "markdown",
   "id": "b1c36703",
   "metadata": {},
   "source": [
    "These tests are used when variable of interest is a proportion or percentage (e.g., the proportion of people who click a link, the percentage of defective products).\n",
    "\n",
    "It is used to test hypotheses about one or more population proportions.\n",
    "\n",
    "One-Sample Proportion Test is Comparing a single sample proportion to a hypothesized population proportion e.g \"Is the proportion of left-handed students in this GenAI (say, 12%) significantly different from the known national average of 10%?. It differs from chi test because it measures proportion (binary or numerical) while chi square test measure relationship. \n",
    "\n",
    "proportion tests are often based on z-test statistics\n",
    "\n",
    "It is epresented mathematically as\n",
    "\n",
    "$$ z = \\frac {\\hat{p} - p_0}{\\sqrt \\frac {p_0(1 - p_0)}{n}} $$\n",
    "\n",
    "where p - p is the difference between the sample proportion and claimed population p\n",
    "\n",
    "\n"
   ]
  }
 ],
 "metadata": {
  "language_info": {
   "name": "python"
  }
 },
 "nbformat": 4,
 "nbformat_minor": 5
}

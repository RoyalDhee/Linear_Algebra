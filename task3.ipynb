{
 "cells": [
  {
   "cell_type": "markdown",
   "id": "c4bb7a4f",
   "metadata": {},
   "source": [
    "$$\n",
    "A = \\begin{pmatrix}\n",
    "a & b \\\\\n",
    "c & d\n",
    "B = \\end{pmatrix}\n",
    "$$\n"
   ]
<<<<<<< HEAD
  },
  {
   "cell_type": "markdown",
   "id": "352357d1",
   "metadata": {},
   "source": [
    "## c. Find the transpose of both matrices"
   ]
  },
  {
   "cell_type": "markdown",
   "id": "6cb47959",
   "metadata": {},
   "source": [
    "Transpose of Matrix A\n",
    "$$\n",
    "Transpose(A) = \\begin{bmatrix}\n",
    "2 & 0 \\\\\n",
    "-1 & 3\n",
    "\\end{bmatrix}\n",
    "\n",
    "\n",
    "% $$\n",
    "% Transpose(A) = \\begin{bmatrix}\n",
    "% 2 & 0 \\\\\n",
    "% -1 & 3\n",
    "% \\end{bmatrix}\n",
    "\n",
    "Transpose of Matrix B\n",
    "$$\n",
    "Transpose(A) = \\begin{bmatrix}\n",
    "1 & -2 \\\\\n",
    "4 & 5\n",
    "\\end{bmatrix}\n"
   ]
  },
  {
   "cell_type": "markdown",
   "id": "457607fc",
   "metadata": {},
   "source": [
    "## d. Check if A and B are invertible ..."
   ]
  },
  {
   "cell_type": "markdown",
   "id": "21efaf72",
   "metadata": {},
   "source": [
    "Recall,\n",
    "$$\n",
    "A = \\begin{bmatrix}\n",
    "2 & -1 \\\\\n",
    "0 & 3\n",
    "\\end{bmatrix}\n",
    "$$\n",
    "\n",
    "\n",
    "det(A) = ((2*3)-(-1 *0))\n",
    "\n",
    "        = (6 + 0) \n",
    "        \n",
    "det(A)  = 6\n",
    "Since $det(A) \\neq 0$, A is invertible\n",
    "\n",
    "Also, Recall that:\n",
    "$$\n",
    "B = \\begin{bmatrix}\n",
    "1 & 4 \\\\\n",
    "-2 & 5\n",
    "\\end{bmatrix}\n",
    "$$\n",
    "\n",
    "det(B) = ((1*5)-(-2*4))\n",
    "\n",
    "        = (5 + 8)\n",
    "\n",
    " det(B)       = 13\n",
    "\n",
    "Since $det(B) \\neq 0$, B is invertible"
   ]
  },
  {
   "cell_type": "markdown",
   "id": "1d75e32f",
   "metadata": {},
   "source": [
    "#### Find the inverse of A and B if they are invertible"
   ]
  },
  {
   "cell_type": "markdown",
   "id": "65edcac0",
   "metadata": {},
   "source": [
    "Inverse A :\n",
    "$$\n",
    "1/6 . \\begin{bmatrix}\n",
    "3 & 0 \\\\\n",
    "1 & 2\n",
    "\\end{bmatrix}\n"
   ]
  },
  {
   "cell_type": "markdown",
   "id": "df35bd4a",
   "metadata": {},
   "source": [
    "Inverse A :\n",
    "$$\n",
    "Inverse A =  \\begin{bmatrix}\n",
    "1/2 & 0 \\\\\n",
    "1/6 & 1/3\n",
    "\\end{bmatrix}\n",
    "\n"
   ]
  },
  {
   "cell_type": "markdown",
   "id": "188e2d20",
   "metadata": {},
   "source": [
    "Inverse B :\n",
    "$$\n",
    "1/13 . \\begin{bmatrix}\n",
    "5 & -4 \\\\\n",
    "2 & 1\n",
    "\\end{bmatrix}"
   ]
  },
  {
   "cell_type": "markdown",
   "id": "8c81209f",
   "metadata": {},
   "source": [
    "Inverse B :\n",
    "$$\n",
    "Inverse B =  \\begin{bmatrix}\n",
    "5/13 & -4/13 \\\\\n",
    "2/13 & 1/13\n",
    "\\end{bmatrix}"
   ]
=======
>>>>>>> a3170522157d7faba8281344dde948da7d714040
  }
 ],
 "metadata": {
  "kernelspec": {
   "display_name": "linear_algebra",
   "language": "python",
   "name": "python3"
  },
  "language_info": {
   "name": "python",
   "version": "3.13.7"
  }
 },
 "nbformat": 4,
 "nbformat_minor": 5
}

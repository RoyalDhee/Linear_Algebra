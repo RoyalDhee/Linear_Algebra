{
 "cells": [
  {
   "cell_type": "markdown",
   "id": "4d6382a7",
   "metadata": {},
   "source": [
    "### Task 3\n"
   ]
  },
  {
   "cell_type": "markdown",
   "id": "fea380c0",
   "metadata": {},
   "source": [
    "Given 2 matrices,\\\n",
    "Let\n",
    "\n",
    "$$\n",
    "A = \\begin{bmatrix}\n",
    "2 & -1 \\\\\n",
    "0 & 3\n",
    "\\end{bmatrix}\n",
    "$$\n",
    "\n",
    "\n",
    "$$\n",
    "B = \\begin{bmatrix}\n",
    "1 & 4 \\\\\n",
    "2 & -5\n",
    "\\end{bmatrix}\n",
    "$$\n",
    "\n",
    "And the scalers (c = 2), (d = 3)"
   ]
  },
  {
   "cell_type": "markdown",
   "id": "df6610ca",
   "metadata": {},
   "source": [
    "a. Compute the following : (cA), (dB), and (c + d)A"
   ]
  },
  {
   "cell_type": "markdown",
   "id": "c4ffccca",
   "metadata": {},
   "source": [
    "(i) (cA)\n",
    "\n",
    "$$\n",
    "c*\\begin{bmatrix}\n",
    "2 & -1 \\\\\n",
    "0 & 3\n",
    "\\end{bmatrix}\n",
    "$$\n",
    "\n",
    "where c = 2\n",
    "\n",
    "$$\n",
    "2*\\begin{bmatrix}\n",
    "2 & -1 \\\\\n",
    "0 & 3\n",
    "\\end{bmatrix}\n",
    "$$\n",
    "\n",
    "then,\n",
    "\n",
    "$$\n",
    "\\begin{bmatrix}\n",
    "2*2 & -1*2 \\\\\n",
    "0*2 & 3*2\n",
    "\\end{bmatrix}\n",
    "$$\n",
    "\n",
    "Therefore,\n",
    "$$\n",
    "(cA) = \\begin{bmatrix}\n",
    "4 & -2 \\\\\n",
    "0 & 6\n",
    "\\end{bmatrix}\n",
    "$$\n",
    "\n",
    "(b)(dB)\\\n",
    "          where d = 3\n",
    "$$\n",
    "d*\\begin{bmatrix}\n",
    "1 & 4 \\\\\n",
    "-2 & 5\n",
    "\\end{bmatrix}\n",
    "$$\n",
    "\n",
    "$$\n",
    "(dB) = \\begin{bmatrix}\n",
    "3*1 & 3*4 \\\\\n",
    "3*-2 & 3*5\n",
    "\\end{bmatrix}\n",
    "$$\n",
    "\n",
    "Therefore\n",
    "$$\n",
    "(dB) = \\begin{bmatrix}\n",
    "3 & 12 \\\\\n",
    "-6 & 15\n",
    "\\end{bmatrix}\n",
    "$$\n",
    "\n",
    "(iii) (c + d)A\\\n",
    "          c = 2, d = 3\n",
    "\n",
    "          (2 + 3)A  \n",
    "\n",
    "          (5)A  \n",
    "\n",
    "$$\n",
    "(5)A = \\begin{bmatrix}\n",
    "5*2 & 5*-1 \\\\\n",
    "5*0 & 5*3\n",
    "\\end{bmatrix}\n",
    "$$\n",
    "\n",
    "\n",
    "$$\n",
    "(5)A = \\begin{bmatrix}\n",
    "10 & -5 \\\\\n",
    "0 & 15\n",
    "\\end{bmatrix}\n",
    "$$"
   ]
  },
  {
   "cell_type": "markdown",
   "id": "233878d3",
   "metadata": {},
   "source": [
    "b. Using the results gotten, Verifythe scalar Multiplication properties"
   ]
  },
  {
   "cell_type": "markdown",
   "id": "ef9908e1",
   "metadata": {},
   "source": [
    "The scalar multiplication properties are\n",
    "1. Associativity of scalar Multiplication\n",
    "(c * d)A = c*(dA)\n",
    "2. Distributivity over Matrix Addition\n",
    "c(A + B) = cA + cB\n",
    "3. Distributivity over Scalar Multiplication\n",
    "(c + d)A = cA + dA\n"
   ]
  }
 ],
 "metadata": {
  "language_info": {
   "name": "python"
  }
 },
 "nbformat": 4,
 "nbformat_minor": 5
}

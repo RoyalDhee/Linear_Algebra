{
 "cells": [
  {
   "cell_type": "markdown",
   "id": "c4bb7a4f",
   "metadata": {},
   "source": [
    "$$\n",
    "A = \\begin{pmatrix}\n",
    "a & b \\\\\n",
    "c & d\n",
    "B = \\end{pmatrix}\n",
    "$$\n"
   ]
  }
 ],
 "metadata": {
  "language_info": {
   "name": "python"
  }
 },
 "nbformat": 4,
 "nbformat_minor": 5
}

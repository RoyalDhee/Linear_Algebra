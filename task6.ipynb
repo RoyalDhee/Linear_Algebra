{
 "cells": [
  {
   "cell_type": "markdown",
   "id": "f169a60d",
   "metadata": {},
   "source": [
    "## Task 6"
   ]
  },
  {
   "cell_type": "markdown",
   "id": "b758eb8a",
   "metadata": {},
   "source": [
    "### 1. Class Test Score"
   ]
  },
  {
   "cell_type": "markdown",
   "id": "169352e1",
   "metadata": {},
   "source": [
    "#### 1. Find the mean median and mode"
   ]
  },
  {
   "cell_type": "markdown",
   "id": "6d3319aa",
   "metadata": {},
   "source": [
    "##### Mean"
   ]
  },
  {
   "cell_type": "markdown",
   "id": "601a8374",
   "metadata": {},
   "source": [
    "Test scores = (5, 8, 10, 12, 12, 12, 13, 14, 14, 15, 16, 18, 18, 20, 20)\n",
    "\n",
    "\n",
    "\n",
    "Mean    = (5 + 8 + 10 + 12 + 12 + 12 + 13 + 14 + 14 + 15 + 16 + 18 + 18 + 20 + 20) = 207\n",
    "        = 207 / 15\n",
    "        =13.8\n",
    "Mean = 13.8"
   ]
  },
  {
   "cell_type": "markdown",
   "id": "f4338e55",
   "metadata": {},
   "source": [
    "##### Median"
   ]
  },
  {
   "cell_type": "markdown",
   "id": "39659753",
   "metadata": {},
   "source": [
    "Median <br>\n",
    "From the test scores given as 5, 8, 10, 12, 12, 12, 13, 14, 14, 15, 16, 18, 18, 20, 20\n",
    "The Median which is the middle value is 14"
   ]
  },
  {
   "cell_type": "markdown",
   "id": "2f811dc0",
   "metadata": {},
   "source": [
    "##### Mode"
   ]
  },
  {
   "cell_type": "markdown",
   "id": "434a732b",
   "metadata": {},
   "source": [
    "Mode <br>\n",
    "The value with the most frequency or frequent occurence\n",
    "The mode from the test score is 12."
   ]
  },
  {
   "cell_type": "markdown",
   "id": "bdd08bd1",
   "metadata": {},
   "source": [
    "#### 2."
   ]
  },
  {
   "cell_type": "markdown",
   "id": "d387cc8b",
   "metadata": {},
   "source": [
    "if the lowest score 5 was wrongly recorded and should have been 10, then the test score will change which will equally change the datas\n",
    "\n",
    "new test scores = (10, 8, 10, 12, 12, 12, 13, 14, 14, 15, 16, 18, 18, 20, 20)\n",
    "\n",
    "Mean = 212/15\n",
    "Mean = 14.13\n",
    "\n",
    "The new mean is 14.13\n",
    "\n",
    "Would the median or mode change? <br>\n",
    "The median and mode will not change because the position of the value of error recorded will appear at the beginning of the set therefore it does not affect the median likewise the mode because the value of the error occured just twice unlike the prev mode(12) which occured thrice\n"
   ]
  },
  {
   "cell_type": "markdown",
   "id": "acc43972",
   "metadata": {},
   "source": [
    "### Daily Commute Times"
   ]
  },
  {
   "cell_type": "markdown",
   "id": "5a2340f7",
   "metadata": {},
   "source": [
    "#### 1. Find the Mean, Median, Mode"
   ]
  },
  {
   "cell_type": "markdown",
   "id": "0ae94d12",
   "metadata": {},
   "source": [
    "time = (15, 20, 20, 25, 25, 30, 60, 65, 120)"
   ]
  },
  {
   "cell_type": "markdown",
   "id": "14ee2077",
   "metadata": {},
   "source": [
    "##### Mean"
   ]
  },
  {
   "cell_type": "markdown",
   "id": "8a5a5e61",
   "metadata": {},
   "source": [
    "time(mins) = (15, 20, 20, 25, 25, 30, 60, 65, 120) <br>\n",
    "Mean = (15 + 20 + 20 + 25 + 25 + 30 + 60 + 65 + 120) <br>\n",
    "    = 380/9 <br>\n",
    "    = 42.2"
   ]
  },
  {
   "cell_type": "markdown",
   "id": "f303d4a3",
   "metadata": {},
   "source": [
    "##### Median"
   ]
  },
  {
   "cell_type": "markdown",
   "id": "5e09bc86",
   "metadata": {},
   "source": [
    "time(mins) = (15, 20, 20, 25, 25, 30, 60, 65, 120) <br>\n",
    "\n",
    "The median for the time commute is 25"
   ]
  },
  {
   "cell_type": "markdown",
   "id": "57f206be",
   "metadata": {},
   "source": [
    "##### Mode"
   ]
  },
  {
   "cell_type": "markdown",
   "id": "486e3566",
   "metadata": {},
   "source": [
    "time(mins) = (15, 20, 20, 25, 25, 30, 60, 65, 120) <br>\n",
    "\n",
    "The mode for the time commute are 20 and 25, therefore it is bimodal"
   ]
  },
  {
   "cell_type": "markdown",
   "id": "2ff636b1",
   "metadata": {},
   "source": [
    "#### 2. "
   ]
  },
  {
   "cell_type": "markdown",
   "id": "859c6b00",
   "metadata": {},
   "source": [
    "The measure that i think best represents the typical time it takes the students to get to school is the Median. \n",
    "\n",
    "Why? <br>\n",
    "\n",
    "Judging from the measure of centres, the time for commute contain an outlier 120 mins and since the median is not affected by outlier, then it shows the typical time it takes the students to get to school is 25 mins"
   ]
  },
  {
   "cell_type": "markdown",
   "id": "4b11aedb",
   "metadata": {},
   "source": [
    "### Shoe Sizes"
   ]
  },
  {
   "cell_type": "markdown",
   "id": "9d9d6f34",
   "metadata": {},
   "source": [
    "#### 1."
   ]
  },
  {
   "cell_type": "markdown",
   "id": "aa2b8813",
   "metadata": {},
   "source": [
    "shoe sizes = ( 38, 39, 38, 40, 41, 42, 39, 39, 40, 38, 37, 39, 40, 41, 42\n",
    ")"
   ]
  },
  {
   "cell_type": "markdown",
   "id": "75520e78",
   "metadata": {},
   "source": [
    "##### Mode"
   ]
  },
  {
   "cell_type": "markdown",
   "id": "222d2def",
   "metadata": {},
   "source": [
    "Rearranging the data given for the shoe sizes to be\n",
    "\n",
    "new shoe sizes = (37, 38, 38, 38, 39, 39, 39, 39, 40, 40, 40, 41, 41, 42, 42)\n",
    "\n",
    "To find the mode i.e the value with modt frequent occurence\n",
    "\n",
    "The mode is 39 which occurs 4 times"
   ]
  },
  {
   "cell_type": "markdown",
   "id": "6ee2fe48",
   "metadata": {},
   "source": [
    "#### 2. "
   ]
  },
  {
   "cell_type": "markdown",
   "id": "85fcc8e0",
   "metadata": {},
   "source": [
    "If a shoe wants to donate free shoes, they will produce size 39 most because it is the most frequent occurence proven by the mode"
   ]
  },
  {
   "cell_type": "markdown",
   "id": "94183d68",
   "metadata": {},
   "source": [
    "#### 3."
   ]
  },
  {
   "cell_type": "markdown",
   "id": "2e5af472",
   "metadata": {},
   "source": [
    "\n",
    "Lets verify the other measure of centre first\n",
    "\n",
    "Mode = 39\n",
    "\n",
    "Mean = (37 + 38 + 38 + 38 + 39 + 39 + 39 + 39 + 40 + 40 + 40 + 41 + 41 + 42 + 42) = 593 <br>\n",
    "    = 593/15 <br>\n",
    "    = 39.5\n",
    "\n",
    "Median = 39\n",
    "\n",
    "If they only want to produce one size that would fit the average student, they should use the mean.\n"
   ]
  }
 ],
 "metadata": {
  "language_info": {
   "name": "python"
  }
 },
 "nbformat": 4,
 "nbformat_minor": 5
}

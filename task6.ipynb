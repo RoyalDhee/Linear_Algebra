{
 "cells": [
  {
   "cell_type": "markdown",
   "id": "f169a60d",
   "metadata": {},
   "source": [
    "## Task 6"
   ]
  },
  {
   "cell_type": "markdown",
   "id": "b758eb8a",
   "metadata": {},
   "source": [
    "### 1. Class Test Score"
   ]
  },
  {
   "cell_type": "markdown",
   "id": "81e7903f",
   "metadata": {},
   "source": [
    "test scores = (5, 8, 10, 12, 12, 12, 13, 14, 14, 15, 16, 18, 18, 20, 20)\n",
    "\n",
    "\n",
    "1. Find the mean\n",
    "Mean = (5 + 8 + 10 + 12 + 12 + 12 + 13 + 14 + 14 + 15 + 16 + 18 + 18 + 20 + 20)"
   ]
  }
 ],
 "metadata": {
  "language_info": {
   "name": "python"
  }
 },
 "nbformat": 4,
 "nbformat_minor": 5
}

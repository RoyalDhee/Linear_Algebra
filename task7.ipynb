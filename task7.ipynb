{
 "cells": [
  {
   "cell_type": "markdown",
   "id": "dedd3ce9",
   "metadata": {},
   "source": [
    "### Class Task 3"
   ]
  },
  {
   "cell_type": "markdown",
   "id": "4d78eb49",
   "metadata": {},
   "source": [
    "Given the values (4, 8, 6, 5, 3), find the variance\n",
    "\n",
    "Values = ([4, 8, 6, 5, 3])\n",
    "\n",
    "finding the mean\n",
    "\n",
    "$$\n",
    "Mean = \\frac{1}{n}\\sum^n_{i = 1}{x_i}\n",
    "\n",
    "$$\n",
    "\n",
    "\n",
    "\n",
    "$$\n",
    "= \\frac{4+8+6+5+3}{5}\\\n",
    "$$\n",
    "\n",
    "$$\n",
    "Mean = 5.2\n",
    "$$\n",
    "\n",
    "Variance \n",
    "\n",
    "$$\n",
    "Variance(\\sigma^2) =\\frac{1}{n} \\sum^n_{i = 1}{x_i - \\mu}^2 \n",
    "\n",
    "$$\n",
    "\n",
    "$$\n",
    "\\sigma^2 = \\frac{1}{5} [(4-5.2)^2 +(8-5.2)^2 + (6-5.2)^2 + (5-5.2)^2 + (3-5.2)^2]\n",
    "$$\n",
    "\n",
    "then\n",
    "$$\n",
    "\\sigma^2 = 2.96\n",
    "$$"
   ]
  }
 ],
 "metadata": {
  "language_info": {
   "name": "python"
  }
 },
 "nbformat": 4,
 "nbformat_minor": 5
}

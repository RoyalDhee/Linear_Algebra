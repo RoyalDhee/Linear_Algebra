{
 "cells": [
  {
   "cell_type": "markdown",
   "id": "629b3183",
   "metadata": {},
   "source": [
    "### Class Task 4"
   ]
  },
  {
   "cell_type": "markdown",
   "id": "f83eebf2",
   "metadata": {},
   "source": []
  },
  {
   "cell_type": "code",
   "execution_count": 57,
   "id": "063048e1",
   "metadata": {},
   "outputs": [
    {
     "name": "stdout",
     "output_type": "stream",
     "text": [
      "Student 1: \n",
      "[80 70 90]\n",
      "Student 1: \n",
      "[60 85 75]\n",
      "Student 1: \n",
      "[95 88 92]\n",
      "Student 1: \n",
      "[70 60 65]\n"
     ]
    }
   ],
   "source": [
    "import numpy as np\n",
    "\n",
    "\n",
    "\n",
    "# Creating row vectors for each student information\n",
    "student1 = np.array([80, 70, 90])\n",
    "student2 = np.array([60, 85, 75])\n",
    "student3 = np.array([95, 88, 92])\n",
    "student4 = np.array([70, 60, 65])\n",
    "\n",
    "\n",
    "\n",
    "print(f\"Student 1: \\n{student1}\")\n",
    "print(f\"Student 1: \\n{student2}\")\n",
    "print(f\"Student 1: \\n{student3}\")\n",
    "print(f\"Student 1: \\n{student4}\")\n",
    "\n"
   ]
  },
  {
   "cell_type": "markdown",
   "id": "fee7ca71",
   "metadata": {},
   "source": [
    "### 3.1 Representing Data as Matrix"
   ]
  },
  {
   "cell_type": "markdown",
   "id": "d1b901fe",
   "metadata": {},
   "source": [
    "$$ \n",
    "Data =\\begin{bmatrix}\n",
    "80 & 70 & 90 \\\\\n",
    "60 & 85 & 75 \\\\\n",
    "95 & 88 & 92 \\\\\n",
    "70 & 60 & 65\n",
    "\\end{bmatrix}\n",
    "\n",
    "$$"
   ]
  },
  {
   "cell_type": "code",
   "execution_count": 58,
   "id": "9cbc4648",
   "metadata": {},
   "outputs": [
    {
     "name": "stdout",
     "output_type": "stream",
     "text": [
      "The Matrix for Data sheet: \n",
      "[[80 70 90]\n",
      " [60 85 75]\n",
      " [95 88 92]\n",
      " [70 60 65]]\n"
     ]
    }
   ],
   "source": [
    "# Representing the data as a matrix\n",
    "data = np.array([[80, 70, 90],\n",
    "                [60, 85, 75],\n",
    "                [95, 88, 92],\n",
    "                [70, 60, 65]])\n",
    "\n",
    "print(f\"The Matrix for Data sheet: \\n{data}\")"
   ]
  },
  {
   "cell_type": "markdown",
   "id": "2781b40c",
   "metadata": {},
   "source": [
    "### 3.2 Total scores per Student (Vector Addition)"
   ]
  },
  {
   "cell_type": "markdown",
   "id": "6e8d9c99",
   "metadata": {},
   "source": [
    "Total Score for Each Students (Vector Addition) <br>\n",
    "[240 220 275 295] <br>\n",
    "Total Score for student 1 = [80 + 70 + 90] = 240 <br>\n",
    "Total Score for student 2 = [60 + 85 + 75] = 220 <br>\n",
    "Total Score for student 3 = [95 + 88 + 92] = 275 <br>\n",
    "Total Score for student 4 = [70 + 60 + 65] = 195 <br>"
   ]
  },
  {
   "cell_type": "code",
   "execution_count": 59,
   "id": "40273838",
   "metadata": {},
   "outputs": [
    {
     "name": "stdout",
     "output_type": "stream",
     "text": [
      "Total scores for each student [240 220 275 195]\n",
      "Total Scores for student 1 = 240\n",
      "Total Scores for student 2 = 220\n",
      "Total Scores for student 3 = 275\n",
      "Total Scores for student 4 = 195\n"
     ]
    }
   ],
   "source": [
    "\n",
    "# Total scores\n",
    "total_scores = np.sum(data, axis=1)\n",
    "print(f\"Total scores for each student {total_scores}\")\n",
    "\n",
    "i=1\n",
    "for  student_scores in total_scores:\n",
    "    print(f\"Total Scores for student {i} = {student_scores}\")\n",
    "    i+=1"
   ]
  },
  {
   "cell_type": "markdown",
   "id": "b9fb3811",
   "metadata": {},
   "source": [
    "### 3.3 Applying Weights"
   ]
  },
  {
   "cell_type": "markdown",
   "id": "e04504c7",
   "metadata": {},
   "source": [
    "To apply Weight to Subjects, Maths in this case\n",
    "\n",
    "$$ \n",
    "Data = 2 * \\begin{bmatrix}\n",
    "80 \\\\\n",
    "60  \\\\\n",
    "95  \\\\\n",
    "70 \n",
    "\\end{bmatrix}\n",
    "$$\n",
    "\n",
    "$$\n"
   ]
  },
  {
   "cell_type": "markdown",
   "id": "fd5f3ced",
   "metadata": {},
   "source": [
    "$$ \n",
    "Data =\\begin{bmatrix}\n",
    "160 & 70 & 90 \\\\\n",
    "60 & 85 & 75 \\\\\n",
    "95 & 88 & 92 \\\\\n",
    "70 & 60 & 65\n",
    "\\end{bmatrix}\n",
    "\n",
    "$$"
   ]
  },
  {
   "cell_type": "code",
   "execution_count": 60,
   "id": "581f771c",
   "metadata": {},
   "outputs": [
    {
     "name": "stdout",
     "output_type": "stream",
     "text": [
      " Subjects Weight \n",
      " [[160  70  90]\n",
      " [120  85  75]\n",
      " [190  88  92]\n",
      " [140  60  65]]\n"
     ]
    }
   ],
   "source": [
    "# Applying Weight to Subject Math\n",
    "data[:, 0] = 2 * (data[:, 0])\n",
    "\n",
    "print(f\" Subjects Weight \\n {data}\")"
   ]
  },
  {
   "cell_type": "markdown",
   "id": "aad246ee",
   "metadata": {},
   "source": [
    "### 3.4 Average Score per subject"
   ]
  },
  {
   "cell_type": "markdown",
   "id": "58775662",
   "metadata": {},
   "source": [
    "Average score per Subject <br>\n",
    "Average score for Math = [160 + 120 + 190 + 140] = 610/4 = 152.5 <br>\n",
    "Average score for English = [70 + 85 + 88 + 60] = 303/4 = 75.75 <br>\n",
    "Average score for Science = [90 + 75 + 92 + 65] = 322/4 = 80.5 <br>\n"
   ]
  },
  {
   "cell_type": "code",
   "execution_count": 61,
   "id": "b1c97cf1",
   "metadata": {},
   "outputs": [
    {
     "name": "stdout",
     "output_type": "stream",
     "text": [
      "Average score \n",
      " [152.5   75.75  80.5 ]\n",
      "Average Score for Math = 152.5\n",
      "Average Score for English = 75.75\n",
      "Average Score for Science = 80.5\n"
     ]
    }
   ],
   "source": [
    "# Average score per subject\n",
    "average_score = np.mean(data, axis=0)\n",
    "print(f\"Average score \\n {average_score}\")\n",
    "i = ['Math', 'English', 'Science']\n",
    "\n",
    "for subjects, all_average in zip(i, average_score):\n",
    "    print(f\"Average Score for {subjects} = {all_average}\")"
   ]
  },
  {
   "cell_type": "markdown",
   "id": "5dd024a4",
   "metadata": {},
   "source": [
    "### 3.5 Final Grades Multiplication"
   ]
  },
  {
   "cell_type": "markdown",
   "id": "0fbabf08",
   "metadata": {},
   "source": [
    "Final Grade for each student using the weight vector (0.5, 0.3, 0.2) <br>\n",
    "Final grade for Math <br>\n",
    "$$ \n",
    "Math = 0.5 * \\begin{bmatrix}\n",
    "160 \\\\\n",
    "120  \\\\\n",
    "190  \\\\\n",
    "140 \n",
    "\\end{bmatrix}\n",
    "$$\n",
    "\n",
    "Final grade for English <br>\n",
    "$$ \n",
    "English = 0.3 * \\begin{bmatrix}\n",
    "70 \\\\\n",
    "85  \\\\\n",
    "88  \\\\\n",
    "60 \n",
    "\\end{bmatrix}\n",
    "$$\n",
    "\n",
    "Final grade for Science <br>\n",
    "$$ \n",
    "Science = 0.2 * \\begin{bmatrix}\n",
    "90 \\\\\n",
    "75  \\\\\n",
    "92 \\\\\n",
    "65 \n",
    "\\end{bmatrix}\n",
    "$$\n",
    "\n",
    "$$ \n",
    "Grade =\\begin{bmatrix}\n",
    "80 & 21 & 18 \\\\\n",
    "60 & 25.5 & 15 \\\\\n",
    "95 & 26.4 & 18.4 \\\\\n",
    "70 & 18 & 13\n",
    "\\end{bmatrix}\n",
    "$$"
   ]
  },
  {
   "cell_type": "code",
   "execution_count": 62,
   "id": "7e37f786",
   "metadata": {},
   "outputs": [
    {
     "name": "stdout",
     "output_type": "stream",
     "text": [
      " Final Grade for Math \n",
      " [[80.]\n",
      " [60.]\n",
      " [95.]\n",
      " [70.]]\n",
      "Final Grade for English \n",
      " [[21. ]\n",
      " [25.5]\n",
      " [26.4]\n",
      " [18. ]]\n",
      " Final Grades for Science \n",
      " [[18. ]\n",
      " [15. ]\n",
      " [18.4]\n",
      " [13. ]]\n"
     ]
    }
   ],
   "source": [
    "grades_scale = np.array([0.5, 0.3, 0.2])\n",
    "\n",
    "final_math = np.dot(grades_scale[0], data[:, 0])\n",
    "print(f\" Final Grade for Math \\n {final_math.reshape(4,1)}\")\n",
    "\n",
    "\n",
    "final_eng = np.dot(grades_scale[1], data[:, 1])\n",
    "print(f\"Final Grade for English \\n {final_eng.reshape(4,1)}\")\n",
    "\n",
    "final_sci = np.dot(grades_scale[2], data[:, 2])\n",
    "print(f\" Final Grades for Science \\n {final_sci.reshape(4,1)}\")\n"
   ]
  },
  {
   "cell_type": "markdown",
   "id": "990a27c2",
   "metadata": {},
   "source": [
    "### 3.6 Comparing Performance"
   ]
  },
  {
   "cell_type": "code",
   "execution_count": 63,
   "id": "6f7cead4",
   "metadata": {},
   "outputs": [
    {
     "name": "stdout",
     "output_type": "stream",
     "text": [
      "[-20  55 -80]\n",
      "20\n"
     ]
    }
   ],
   "source": [
    "differences = np.diff(total_scores)\n",
    "print(differences)\n",
    "\n",
    "perfomance1 = total_scores[0] - total_scores[1]\n",
    "print(f\"{perfomance1}\")"
   ]
  },
  {
   "cell_type": "markdown",
   "id": "16f4e7e6",
   "metadata": {},
   "source": [
    "## ADD On Exercise"
   ]
  },
  {
   "cell_type": "code",
   "execution_count": 64,
   "id": "647969d1",
   "metadata": {},
   "outputs": [
    {
     "name": "stdout",
     "output_type": "stream",
     "text": [
      "[[80 70 90 50]\n",
      " [60 85 75 60]\n",
      " [95 88 92 70]\n",
      " [70 60 65 80]\n",
      " [70 55 75 60]]\n"
     ]
    }
   ],
   "source": [
    "scores = np.array([[80,70,90,50],[60,85,75,60],[95,88,92,70],[70,60,65,80],[70,55,75,60]])\n",
    "student1_scores = np.array([80,70,90,50])\n",
    "student2_scores = np.array([60,85,75,60])\n",
    "student3_scores = np.array([95,88,92,70])\n",
    "student4_scores = np.array([70,60,65,80])\n",
    "student5_scores = np.array([70,55,75,60])\n",
    "print(scores)"
   ]
  },
  {
   "cell_type": "markdown",
   "id": "14043e3d",
   "metadata": {},
   "source": [
    "#### Total Scores"
   ]
  },
  {
   "cell_type": "markdown",
   "id": "4d227cf2",
   "metadata": {},
   "source": [
    "Total Score for Each Students (Vector Addition) <br>\n",
    "[290 280 345 275 260] <br>\n",
    "Total Score for student 1 = [80 + 70 + 90 + 50] = 290 <br>\n",
    "Total Score for student 2 = [60 + 85 + 75 + 60] = 280 <br>\n",
    "Total Score for student 3 = [95 + 88 + 92 + 70] = 345 <br>\n",
    "Total Score for student 4 = [70 + 60 + 65 + 80] = 275 <br>\n",
    "Total Score for student 4 = [70 + 60 + 65 + 60] = 260 <br>"
   ]
  },
  {
   "cell_type": "code",
   "execution_count": 65,
   "id": "81bb1d59",
   "metadata": {},
   "outputs": [
    {
     "name": "stdout",
     "output_type": "stream",
     "text": [
      "Total scores for each student [290 280 345 275 260]\n",
      "Total Scores for student 1 = 290\n",
      "Total Scores for student 2 = 280\n",
      "Total Scores for student 3 = 345\n",
      "Total Scores for student 4 = 275\n",
      "Total Scores for student 5 = 260\n"
     ]
    }
   ],
   "source": [
    "total_scores = np.sum(scores, axis=1)\n",
    "print(f\"Total scores for each student {total_scores}\")\n",
    "\n",
    "i=1\n",
    "for  stud_scores in total_scores:\n",
    "    print(f\"Total Scores for student {i} = {stud_scores}\")\n",
    "    i+=1"
   ]
  },
  {
   "cell_type": "markdown",
   "id": "3e2d3ae8",
   "metadata": {},
   "source": [
    "#### Average Score"
   ]
  },
  {
   "cell_type": "markdown",
   "id": "eacdd416",
   "metadata": {},
   "source": [
    "Maths_avg = [80 + 60 + 95 + 70 + 70]/5 = 375/5 = 75\n",
    "\n",
    "English_avg = [70 + 85 + 88 + 60 + 55]/5 = 358/5 = 71.6\n",
    "\n",
    "Science_avg = [90 + 75 + 92 + 65 + 75]/5 = 397/5 = 79.4\n",
    "\n",
    "Data_avg = [50 + 60 + 70 + 80 + 60]/5 = 320/5 = 64"
   ]
  },
  {
   "cell_type": "code",
   "execution_count": 66,
   "id": "9f5914f4",
   "metadata": {},
   "outputs": [
    {
     "name": "stdout",
     "output_type": "stream",
     "text": [
      " Average score for Math = 75.0\n",
      " Average score for English = 71.6\n",
      " Average score for Science = 79.4\n",
      " Average score for Data = 64.0\n"
     ]
    }
   ],
   "source": [
    "avg_score = np.average(scores, axis= 0)\n",
    "sub = ['Math', 'English', 'Science', 'Data']\n",
    "\n",
    "for subs, all_avg in zip(avg_score, sub):\n",
    "    print(f\" Average score for {all_avg} = {subs}\")"
   ]
  },
  {
   "cell_type": "markdown",
   "id": "58f4ce75",
   "metadata": {},
   "source": [
    "### 2."
   ]
  },
  {
   "cell_type": "code",
   "execution_count": 67,
   "id": "fd276a86",
   "metadata": {},
   "outputs": [
    {
     "name": "stdout",
     "output_type": "stream",
     "text": [
      " Subjects Weight \n",
      " [[ 80  70 270  50]\n",
      " [ 60  85 225  60]\n",
      " [ 95  88 276  70]\n",
      " [ 70  60 195  80]\n",
      " [ 70  55 225  60]]\n"
     ]
    }
   ],
   "source": [
    "# Applying Weight to Subject Science\n",
    "scores[:, 2] = 3 * (scores[:, 2])\n",
    "\n",
    "print(f\" Subjects Weight \\n {scores}\")"
   ]
  },
  {
   "cell_type": "markdown",
   "id": "d553a1cd",
   "metadata": {},
   "source": [
    "### 3."
   ]
  },
  {
   "cell_type": "markdown",
   "id": "772a4d73",
   "metadata": {},
   "source": [
    "Final Grade for each student using the weight vector (0.4, 0.2, 0.3, 0.1) <br>\n",
<<<<<<< HEAD
    "Final grade for Math <br>\n",
=======
    "Final grade for Maths <br>\n",
>>>>>>> 53002096367337d74035e91b48eaf9bcd4c54a44
    "$$ \n",
    "Math = 0.4 * \\begin{bmatrix}\n",
    "80 \\\\\n",
    "60  \\\\\n",
    "95  \\\\\n",
    "70 \\\\\n",
    "70\n",
    "\\end{bmatrix}\n",
    "$$\n",
    "\n",
    "Final grade for English <br>\n",
    "$$ \n",
    "English = 0.2 * \\begin{bmatrix}\n",
    "70 \\\\\n",
    "85  \\\\\n",
    "88  \\\\\n",
    "60 \\\\\n",
    "55\n",
    "\\end{bmatrix}\n",
    "$$\n",
    "\n",
    "Final grade for Science <br>\n",
    "$$ \n",
    "Science = 0.3 * \\begin{bmatrix}\n",
    "90 \\\\\n",
    "75  \\\\\n",
    "92 \\\\\n",
    "65 \\\\\n",
    "75\n",
    "\\end{bmatrix}\n",
    "$$\n",
    "\n",
    "Final grade for Data <br>\n",
    "$$ \n",
    "Data = 0.1 * \\begin{bmatrix}\n",
    "50 \\\\\n",
    "60  \\\\\n",
    "70 \\\\\n",
    "80 \\\\\n",
    "60\n",
    "\\end{bmatrix}\n",
    "$$\n"
   ]
  },
  {
   "cell_type": "code",
   "execution_count": 68,
   "id": "313f054e",
   "metadata": {},
   "outputs": [
    {
     "name": "stdout",
     "output_type": "stream",
     "text": [
      " Final Grade for Math \n",
      " [[32.]\n",
      " [24.]\n",
      " [38.]\n",
      " [28.]\n",
      " [28.]]\n",
      " Final Grade for English \n",
      " [[14. ]\n",
      " [17. ]\n",
      " [17.6]\n",
      " [12. ]\n",
      " [11. ]]\n",
      " Final Grade for Science \n",
      " [[81. ]\n",
      " [67.5]\n",
      " [82.8]\n",
      " [58.5]\n",
      " [67.5]]\n",
      " Final Grade for Data \n",
      " [[5.]\n",
      " [6.]\n",
      " [7.]\n",
      " [8.]\n",
      " [6.]]\n",
      "[32.  24.  38.  28.  28.  14.  17.  17.6 12.  11.  81.  67.5 82.8 58.5\n",
      " 67.5  5.   6.   7.   8.   6. ]\n"
     ]
    }
   ],
   "source": [
    "new_grading_weights = [0.4, 0.2, 0.3, 0.1]\n",
    "\n",
    "grade_math = np.dot(new_grading_weights[0], scores[:,0])\n",
    "print(f\" Final Grade for Math \\n {grade_math.reshape(5,1)}\")\n",
    "\n",
    "grade_eng = np.dot(new_grading_weights[1], scores[:,1])\n",
    "print(f\" Final Grade for English \\n {grade_eng.reshape(5,1)}\")\n",
    "\n",
    "grade_sci = np.dot(new_grading_weights[2], scores[:,2])\n",
    "print(f\" Final Grade for Science \\n {grade_sci.reshape(5,1)}\")\n",
    "\n",
    "grade_data = np.dot(new_grading_weights[3], scores[:,3])\n",
    "print(f\" Final Grade for Data \\n {grade_data.reshape(5,1)}\")\n",
    "\n",
    "grades_matrix = np.hstack((grade_math, grade_eng, grade_sci, grade_data))\n",
    "print(grades_matrix)"
   ]
  },
  {
   "cell_type": "markdown",
   "id": "406599ad",
   "metadata": {},
   "source": [
    "#### 4."
   ]
  },
  {
   "cell_type": "markdown",
   "id": "2898c8f2",
   "metadata": {},
   "source": [
    "Matrix slice (rows 2–3, all columns):\n",
    "\n",
    "Student 3 = [95, 88, 92, 70]\n",
    "Student 4 = [70, 60, 65, 80]\n",
    "\n",
    "Difference (Student4 – Student3): = [70-95, 60-88, 65-92, 80-70] = [-25, -28, -27, 10]\n",
    "\n",
    "Interpretation:\n",
    "\n",
    "Negative = Student 3 performed better. Positive = Student 4 performed better. So:\n",
    "\n",
    "Maths: Student 3 better by 25 English: Student 3 better by 28 Science: Student 3 better by 27 Computer: Student 4 better by 10"
   ]
  },
  {
   "cell_type": "code",
   "execution_count": 70,
   "id": "cdb575b4",
   "metadata": {},
   "outputs": [
    {
     "name": "stdout",
     "output_type": "stream",
     "text": [
      "Scores of Student 3 and 4 only: \n",
      " [[ 95  88 276  70]\n",
      " [ 70  60 195  80]]\n",
      "\n",
      "Comparing Student 3 and 4 Scores(By Subject): \n",
      "[[-25 -28 -81  10]]\n",
      "Student 3 performed better in Subject 1 by 25 marks\n",
      "Student 3 performed better in Subject 2 by 28 marks\n",
      "Student 3 performed better in Subject 3 by 81 marks\n",
      "Student 4 performed better in Subject 4 by 10 marks\n"
     ]
    }
   ],
   "source": [
    "student3_and_4 = scores[2:4, :]\n",
    "print(f\"Scores of Student 3 and 4 only: \\n {student3_and_4}\")\n",
    "diff_matrix = np.diff(student3_and_4, axis=0)\n",
    "print(f\"\\nComparing Student 3 and 4 Scores(By Subject): \\n{diff_matrix}\")\n",
    "\n",
    "i= 0\n",
    "for diff in diff_matrix[0]:\n",
    "    if diff < 0:\n",
    "        print(f\"Student 3 performed better in Subject {i+1} by {abs(diff)} marks\")\n",
    "    else: \n",
    "        print(f\"Student 4 performed better in Subject {i+1} by {abs(diff)} marks\")\n",
    "        \n",
    "    i+=1"
   ]
  }
 ],
 "metadata": {
  "kernelspec": {
   "display_name": "Python 3",
   "language": "python",
   "name": "python3"
  },
  "language_info": {
   "codemirror_mode": {
    "name": "ipython",
    "version": 3
   },
   "file_extension": ".py",
   "mimetype": "text/x-python",
   "name": "python",
   "nbconvert_exporter": "python",
   "pygments_lexer": "ipython3",
   "version": "3.13.7"
  }
 },
 "nbformat": 4,
 "nbformat_minor": 5
}

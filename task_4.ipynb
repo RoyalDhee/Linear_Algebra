{
 "cells": [
  {
   "cell_type": "markdown",
   "id": "629b3183",
   "metadata": {},
   "source": [
    "### Class Task 4"
   ]
  },
  {
   "cell_type": "code",
   "execution_count": 3,
   "id": "063048e1",
   "metadata": {},
   "outputs": [
    {
     "name": "stdout",
     "output_type": "stream",
     "text": [
      "Student 1: \n",
      "[80 70 90]\n",
      "Student 1: \n",
      "[60 85 75]\n",
      "Student 1: \n",
      "[95 88 92]\n",
      "Student 1: \n",
      "[70 60 65]\n"
     ]
    }
   ],
   "source": [
    "import numpy as np\n",
    "\n",
    "\n",
    "\n",
    "# Creating row vectors for each student information\n",
    "student1 = np.array([80, 70, 90])\n",
    "student2 = np.array([60, 85, 75])\n",
    "student3 = np.array([95, 88, 92])\n",
    "student4 = np.array([70, 60, 65])\n",
    "\n",
    "\n",
    "\n",
    "print(f\"Student 1: \\n{student1}\")\n",
    "print(f\"Student 1: \\n{student2}\")\n",
    "print(f\"Student 1: \\n{student3}\")\n",
    "print(f\"Student 1: \\n{student4}\")\n",
    "\n"
   ]
  },
  {
   "cell_type": "markdown",
   "id": "fee7ca71",
   "metadata": {},
   "source": [
    "Representing Data as Matrix\n",
    "\n",
    "$$ \n",
    "Data =\\begin{bmatrix}\n",
    "80 & 70 & 90 \\\\\n",
    "60 & 85 & 75 \\\\\n",
    "95 & 88 & 92 \\\\\n",
    "70 & 60 & 65\n",
    "\\end{bmatrix}\n",
    "\n",
    "$$"
   ]
  },
  {
   "cell_type": "code",
   "execution_count": 4,
   "id": "9cbc4648",
   "metadata": {},
   "outputs": [
    {
     "name": "stdout",
     "output_type": "stream",
     "text": [
      "The Matrix for Data sheet: \n",
      "[[80 70 90]\n",
      " [60 85 75]\n",
      " [95 88 92]\n",
      " [70 60 65]]\n"
     ]
    }
   ],
   "source": [
    "# Representing the data as a matrix\n",
    "data = np.array([[80, 70, 90],\n",
    "                [60, 85, 75],\n",
    "                [95, 88, 92],\n",
    "                [70, 60, 65]])\n",
    "\n",
    "print(f\"The Matrix for Data sheet: \\n{data}\")"
   ]
  },
  {
   "cell_type": "markdown",
   "id": "6e8d9c99",
   "metadata": {},
   "source": [
    "Total Score for Each Students = [240 220 275 295]\n",
    "Total Score for student 1 = 240\n",
    "Total Score for student 2 = 220\n",
    "Total Score for student 3 = 275\n",
    "Total Score for student 4 = 195"
   ]
  },
  {
   "cell_type": "code",
   "execution_count": null,
   "id": "40273838",
   "metadata": {},
   "outputs": [
    {
     "name": "stdout",
     "output_type": "stream",
     "text": [
      "Total scores for each student [240 220 275 195]\n",
      "Total Scores for student 1 = 240\n",
      "Total Scores for student 2 = 220\n",
      "Total Scores for student 3 = 275\n",
      "Total Scores for student 4 = 195\n"
     ]
    }
   ],
   "source": [
    "\n",
    "total_scores = np.sum(data, axis=1)\n",
    "print(f\"Total scores for each student {total_scores}\")\n",
    "\n",
    "i=1\n",
    "for  student_scores in total_scores:\n",
    "    print(f\"Total Scores for student {i} = {student_scores}\")\n",
    "    i+=1"
   ]
  },
  {
   "cell_type": "markdown",
   "id": "b9fb3811",
   "metadata": {},
   "source": [
    "### 3.3 Applying Weights"
   ]
  },
  {
   "cell_type": "markdown",
   "id": "e04504c7",
   "metadata": {},
   "source": [
    "To apply Weight to Subjects\n",
    "\n",
    "$$ \n",
    "Data = 2 * \\begin{bmatrix}\n",
    "80 \\\\\n",
    "60  \\\\\n",
    "95  \\\\\n",
    "70 \n",
    "\\end{bmatrix}\n",
    "\n",
    "$$\n",
    "\n",
    "$$\n"
   ]
  },
  {
   "cell_type": "markdown",
   "id": "fd5f3ced",
   "metadata": {},
   "source": [
    "$$ \n",
    "Data =\\begin{bmatrix}\n",
    "160 & 70 & 90 \\\\\n",
    "60 & 85 & 75 \\\\\n",
    "95 & 88 & 92 \\\\\n",
    "70 & 60 & 65\n",
    "\\end{bmatrix}\n",
    "\n",
    "$$"
   ]
  },
  {
   "cell_type": "code",
   "execution_count": 6,
   "id": "581f771c",
   "metadata": {},
   "outputs": [
    {
     "name": "stdout",
     "output_type": "stream",
     "text": [
      " Subjects Weight \n",
      " [[160  70  90]\n",
      " [120  85  75]\n",
      " [190  88  92]\n",
      " [140  60  65]]\n"
     ]
    }
   ],
   "source": [
    "# Applying Weight to Subject Math\n",
    "data[:, 0] = 2 * (data[:, 0])\n",
    "\n",
    "print(f\" Subjects Weight \\n {data}\")"
   ]
  },
  {
   "cell_type": "markdown",
   "id": "aad246ee",
   "metadata": {},
   "source": [
    "### 3.4 Average Score per subject"
   ]
  },
  {
   "cell_type": "code",
   "execution_count": 10,
   "id": "b1c97cf1",
   "metadata": {},
   "outputs": [
    {
     "name": "stdout",
     "output_type": "stream",
     "text": [
      "Average score \n",
      " [152.5   75.75  80.5 ]\n",
      "Average Score for Math = 152.5\n",
      "Average Score for English = 75.75\n",
      "Average Score for Science = 80.5\n"
     ]
    }
   ],
   "source": [
    "average_score = np.mean(data, axis=0)\n",
    "print(f\"Average score \\n {average_score}\")\n",
    "i = ['Math', 'English', 'Science']\n",
    "\n",
    "for subjects, all_average in zip(i, average_score):\n",
    "    print(f\"Average Score for {subjects} = {all_average}\")"
   ]
  },
  {
   "cell_type": "markdown",
   "id": "5dd024a4",
   "metadata": {},
   "source": [
    "### 3.5 Final Grades Multiplication"
   ]
  },
  {
   "cell_type": "code",
   "execution_count": 8,
   "id": "7e37f786",
   "metadata": {},
   "outputs": [
    {
     "name": "stdout",
     "output_type": "stream",
     "text": [
      " Final Grade for Math \n",
      " [[80.]\n",
      " [60.]\n",
      " [95.]\n",
      " [70.]]\n",
      "Final Grade for English \n",
      " [[35. ]\n",
      " [42.5]\n",
      " [44. ]\n",
      " [30. ]]\n",
      " Final Grades for Science \n",
      " [[45. ]\n",
      " [37.5]\n",
      " [46. ]\n",
      " [32.5]]\n"
     ]
    }
   ],
   "source": [
    "grades_scale = np.array([0.5, 0.3, 0.2])\n",
    "\n",
    "final_math = np.dot(grades_scale[0], data[:, 0])\n",
    "print(f\" Final Grade for Math \\n {final_math.reshape(4,1)}\")\n",
    "\n",
    "\n",
    "final_eng = np.dot(grades_scale[0], data[:, 1])\n",
    "print(f\"Final Grade for English \\n {final_eng.reshape(4,1)}\")\n",
    "\n",
    "final_sci = np.dot(grades_scale[0], data[:, 2])\n",
    "print(f\" Final Grades for Science \\n {final_sci.reshape(4,1)}\")\n"
   ]
  },
  {
   "cell_type": "markdown",
   "id": "990a27c2",
   "metadata": {},
   "source": [
    "### 3.6 Comparing Performance"
   ]
  },
  {
   "cell_type": "code",
   "execution_count": 9,
   "id": "6f7cead4",
   "metadata": {},
   "outputs": [
    {
     "ename": "TypeError",
     "evalue": "diff() missing 1 required positional argument: 'a'",
     "output_type": "error",
     "traceback": [
      "\u001b[31m---------------------------------------------------------------------------\u001b[39m",
      "\u001b[31mTypeError\u001b[39m                                 Traceback (most recent call last)",
      "\u001b[36mCell\u001b[39m\u001b[36m \u001b[39m\u001b[32mIn[9]\u001b[39m\u001b[32m, line 1\u001b[39m\n\u001b[32m----> \u001b[39m\u001b[32m1\u001b[39m performance = \u001b[43mnp\u001b[49m\u001b[43m.\u001b[49m\u001b[43mdiff\u001b[49m\u001b[43m(\u001b[49m\u001b[43m)\u001b[49m\n",
      "\u001b[31mTypeError\u001b[39m: diff() missing 1 required positional argument: 'a'"
     ]
    }
   ],
   "source": [
    "performance = np.diff()"
   ]
  },
  {
   "cell_type": "markdown",
   "id": "16f4e7e6",
   "metadata": {},
   "source": [
    "## ADD On Exercise"
   ]
  },
  {
   "cell_type": "code",
   "execution_count": null,
   "id": "647969d1",
   "metadata": {},
   "outputs": [
    {
     "name": "stdout",
     "output_type": "stream",
     "text": [
      "[[80 70 90 50]\n",
      " [60 85 75 60]\n",
      " [95 88 92 70]\n",
      " [70 60 65 80]\n",
      " [70 55 75 60]]\n"
     ]
    }
   ],
   "source": [
    "scores = np.array([[80,70,90,50],[60,85,75,60],[95,88,92,70],[70,60,65,80],[70,55,75,60]])\n",
    "student1_scores = np.array([80,70,90,50])\n",
    "student2_scores = np.array([60,85,75,60])\n",
    "student3_scores = np.array([95,88,92,70])\n",
    "student4_scores = np.array([70,60,65,80])\n",
    "student5_scores = np.array([70,55,75,60])\n",
    "print(scores)"
   ]
  },
  {
   "cell_type": "markdown",
   "id": "14043e3d",
   "metadata": {},
   "source": [
    "#### Total Scores"
   ]
  },
  {
   "cell_type": "code",
   "execution_count": null,
   "id": "81bb1d59",
   "metadata": {},
   "outputs": [
    {
     "name": "stdout",
     "output_type": "stream",
     "text": [
      "Total scores for each student [290 280 345 275 260]\n",
      "Total Scores for student 1 = 290\n",
      "Total Scores for student 2 = 280\n",
      "Total Scores for student 3 = 345\n",
      "Total Scores for student 4 = 275\n",
      "Total Scores for student 5 = 260\n"
     ]
    }
   ],
   "source": [
    "total_scores = np.sum(scores, axis=1)\n",
    "print(f\"Total scores for each student {total_scores}\")\n",
    "\n",
    "i=1\n",
    "for  stud_scores in total_scores:\n",
    "    print(f\"Total Scores for student {i} = {stud_scores}\")\n",
    "    i+=1"
   ]
  },
  {
   "cell_type": "markdown",
   "id": "3e2d3ae8",
   "metadata": {},
   "source": [
    "#### Average Score"
   ]
  },
  {
   "cell_type": "code",
   "execution_count": null,
   "id": "9f5914f4",
   "metadata": {},
   "outputs": [
    {
     "name": "stdout",
     "output_type": "stream",
     "text": [
      " Average score for Math = 75.0\n",
      " Average score for English = 71.6\n",
      " Average score for Science = 79.4\n"
     ]
    }
   ],
   "source": [
    "avg_score = np.average(scores, axis= 0)\n",
    "sub = ['Math', 'English', 'Science']\n",
    "\n",
    "for subs, all_avg in zip(avg_score, sub):\n",
    "    print(f\" Average score for {all_avg} = {subs}\")"
   ]
  },
  {
   "cell_type": "markdown",
   "id": "58f4ce75",
   "metadata": {},
   "source": [
    "### 2."
   ]
  },
  {
   "cell_type": "code",
   "execution_count": null,
   "id": "fd276a86",
   "metadata": {},
   "outputs": [
    {
     "name": "stdout",
     "output_type": "stream",
     "text": [
      " Subjects Weight \n",
      " [[ 80  70 270  50]\n",
      " [ 60  85 225  60]\n",
      " [ 95  88 276  70]\n",
      " [ 70  60 195  80]\n",
      " [ 70  55 225  60]]\n"
     ]
    }
   ],
   "source": [
    "# Applying Weight to Subject Math\n",
    "scores[:, 2] = 3 * (scores[:, 2])\n",
    "\n",
    "print(f\" Subjects Weight \\n {scores}\")"
   ]
  },
  {
   "cell_type": "markdown",
   "id": "d553a1cd",
   "metadata": {},
   "source": [
    "### 3."
   ]
  },
  {
   "cell_type": "code",
   "execution_count": null,
   "id": "313f054e",
   "metadata": {},
   "outputs": [
    {
     "name": "stdout",
     "output_type": "stream",
     "text": [
      " Final Grade for Subject 1 \n",
      " [[32.]\n",
      " [24.]\n",
      " [38.]\n",
      " [28.]\n",
      " [28.]]\n"
     ]
    }
   ],
   "source": [
    "new_grading_weights = [0.4, 0.2, 0.3, 0.1]\n",
    "\n",
    "grade_sub1 = np.dot(new_grading_weights[0], scores[:,0])\n",
    "print(f\" Final Grade for Subject 1 \\n {grade_sub1.reshape(5,1)}\")\n"
   ]
  }
 ],
 "metadata": {
  "kernelspec": {
   "display_name": "Python 3",
   "language": "python",
   "name": "python3"
  },
  "language_info": {
   "codemirror_mode": {
    "name": "ipython",
    "version": 3
   },
   "file_extension": ".py",
   "mimetype": "text/x-python",
   "name": "python",
   "nbconvert_exporter": "python",
   "pygments_lexer": "ipython3",
   "version": "3.13.7"
  }
 },
 "nbformat": 4,
 "nbformat_minor": 5
}

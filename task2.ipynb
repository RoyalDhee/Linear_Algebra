{
 "cells": [
  {
   "cell_type": "markdown",
   "id": "7270677f",
   "metadata": {},
   "source": [
    "## Class Task 2"
   ]
  },
  {
   "cell_type": "markdown",
   "id": "6debf20a",
   "metadata": {},
   "source": [
    "### Question 1\n"
   ]
  },
  {
   "cell_type": "markdown",
   "id": "fde1582d",
   "metadata": {},
   "source": [
    "\n",
    "The number of rows and columns \n",
    "A = [2x3]\n",
    "B = [3x2]\n",
    "The matrices can be multiplied because matrix A has 3 columns and matrix B has 3 Rows and equally matrix B has 2 columns and matix A has 2 rows. Therefore the multiplication can be done both ways\n"
   ]
  },
  {
   "cell_type": "markdown",
   "id": "e7116d0e",
   "metadata": {},
   "source": [
    "### Question 2"
   ]
  },
  {
   "cell_type": "markdown",
   "id": "026975ec",
   "metadata": {},
   "source": [
    "The matrices can be multiplied because matrix A has 3 columns and matrix B has 3 Rows and equally matrix B has 2 columns and matix A has 2 rows. Therefore the multiplication can be done both ways"
   ]
  },
  {
   "cell_type": "markdown",
   "id": "6c159dcf",
   "metadata": {},
   "source": [
    "### Question 3"
   ]
  },
  {
   "cell_type": "code",
   "execution_count": 7,
   "id": "f4f5d1ca",
   "metadata": {},
   "outputs": [
    {
     "data": {
      "text/plain": [
       "array([[ 2, -1,  3],\n",
       "       [ 0,  4,  1]])"
      ]
     },
     "execution_count": 7,
     "metadata": {},
     "output_type": "execute_result"
    }
   ],
   "source": [
    "import numpy as np\n",
    "# Defining matrix A\n",
    "matA = np.array([[2,-1,3], [0,4,1]])\n",
    "matA\n"
   ]
  },
  {
   "cell_type": "code",
   "execution_count": null,
   "id": "a3d63cd9",
   "metadata": {},
   "outputs": [
    {
     "data": {
      "text/plain": [
       "array([[ 1,  2],\n",
       "       [-2,  0],\n",
       "       [ 5,  3]])"
      ]
     },
     "execution_count": 8,
     "metadata": {},
     "output_type": "execute_result"
    }
   ],
   "source": [
    "# Defining matrix B\n",
    "matB = np.array([[1,2], [-2,0], [5,-3]])\n",
    "matB"
   ]
  },
  {
   "cell_type": "markdown",
   "id": "dcb320b1",
   "metadata": {},
   "source": [
    "#### Multiplying AxB"
   ]
  },
  {
   "cell_type": "code",
   "execution_count": 9,
   "id": "b000c4fd",
   "metadata": {},
   "outputs": [
    {
     "data": {
      "text/plain": [
       "array([[19, 13],\n",
       "       [-3,  3]])"
      ]
     },
     "execution_count": 9,
     "metadata": {},
     "output_type": "execute_result"
    }
   ],
   "source": [
    "# Performing matrix multiplication\n",
    "multiply = matA @ matB\n",
    "multiply"
   ]
  },
  {
   "cell_type": "markdown",
   "id": "983f166e",
   "metadata": {},
   "source": [
    "### Multiplying BxA"
   ]
  },
  {
   "cell_type": "code",
   "execution_count": 10,
   "id": "e6ac68a7",
   "metadata": {},
   "outputs": [
    {
     "data": {
      "text/plain": [
       "array([[ 2,  7,  5],\n",
       "       [-4,  2, -6],\n",
       "       [10,  7, 18]])"
      ]
     },
     "execution_count": 10,
     "metadata": {},
     "output_type": "execute_result"
    }
   ],
   "source": [
    "multiply = matB @ matA\n",
    "multiply"
   ]
  }
 ],
 "metadata": {
  "kernelspec": {
   "display_name": "linear_algebra",
   "language": "python",
   "name": "python3"
  },
  "language_info": {
   "codemirror_mode": {
    "name": "ipython",
    "version": 3
   },
   "file_extension": ".py",
   "mimetype": "text/x-python",
   "name": "python",
   "nbconvert_exporter": "python",
   "pygments_lexer": "ipython3",
   "version": "3.13.7"
  }
 },
 "nbformat": 4,
 "nbformat_minor": 5
}

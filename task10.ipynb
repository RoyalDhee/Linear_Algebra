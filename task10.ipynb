{
 "cells": [
  {
   "cell_type": "markdown",
   "id": "65a62a56",
   "metadata": {},
   "source": [
    "**TAsk 10**\n",
    "Is the beef consumption in Argentina significantly different from that in Bangladesh?\n",
    "\n",
    "H₀: Mean beef consumption (Argentina) = Mean beef consumption (Bangladesh)\n",
    "\n",
    "H₁: Mean beef consumption (Argentina) ≠ Mean beef consumption (Bangladesh)"
   ]
  },
  {
   "cell_type": "code",
   "execution_count": 16,
   "id": "9724eae8",
   "metadata": {},
   "outputs": [],
   "source": [
    "import pandas as pd\n",
    "import numpy as np\n",
    "import gdown\n",
    "from scipy import stats\n"
   ]
  },
  {
   "cell_type": "code",
   "execution_count": 14,
   "id": "f33b23c7",
   "metadata": {},
   "outputs": [
    {
     "name": "stderr",
     "output_type": "stream",
     "text": [
      "Downloading...\n",
      "From: https://drive.google.com/uc?id=1yB5qSBOLl96Y563nIewKOU8RN_gsY3dO\n",
      "To: c:\\Users\\sowunmi oluwafeyifun\\Desktop\\Linear_Algebra\\data.csv\n",
      "100%|██████████| 52.0k/52.0k [00:00<00:00, 53.1MB/s]\n"
     ]
    },
    {
     "data": {
      "text/html": [
       "<div>\n",
       "<style scoped>\n",
       "    .dataframe tbody tr th:only-of-type {\n",
       "        vertical-align: middle;\n",
       "    }\n",
       "\n",
       "    .dataframe tbody tr th {\n",
       "        vertical-align: top;\n",
       "    }\n",
       "\n",
       "    .dataframe thead th {\n",
       "        text-align: right;\n",
       "    }\n",
       "</style>\n",
       "<table border=\"1\" class=\"dataframe\">\n",
       "  <thead>\n",
       "    <tr style=\"text-align: right;\">\n",
       "      <th></th>\n",
       "      <th>Unnamed: 0</th>\n",
       "      <th>country</th>\n",
       "      <th>food_category</th>\n",
       "      <th>consumption</th>\n",
       "      <th>co2_emission</th>\n",
       "    </tr>\n",
       "  </thead>\n",
       "  <tbody>\n",
       "    <tr>\n",
       "      <th>0</th>\n",
       "      <td>1</td>\n",
       "      <td>Argentina</td>\n",
       "      <td>pork</td>\n",
       "      <td>10.51</td>\n",
       "      <td>37.20</td>\n",
       "    </tr>\n",
       "    <tr>\n",
       "      <th>1</th>\n",
       "      <td>2</td>\n",
       "      <td>Argentina</td>\n",
       "      <td>poultry</td>\n",
       "      <td>38.66</td>\n",
       "      <td>41.53</td>\n",
       "    </tr>\n",
       "    <tr>\n",
       "      <th>2</th>\n",
       "      <td>3</td>\n",
       "      <td>Argentina</td>\n",
       "      <td>beef</td>\n",
       "      <td>55.48</td>\n",
       "      <td>1712.00</td>\n",
       "    </tr>\n",
       "    <tr>\n",
       "      <th>3</th>\n",
       "      <td>4</td>\n",
       "      <td>Argentina</td>\n",
       "      <td>lamb_goat</td>\n",
       "      <td>1.56</td>\n",
       "      <td>54.63</td>\n",
       "    </tr>\n",
       "    <tr>\n",
       "      <th>4</th>\n",
       "      <td>5</td>\n",
       "      <td>Argentina</td>\n",
       "      <td>fish</td>\n",
       "      <td>4.36</td>\n",
       "      <td>6.96</td>\n",
       "    </tr>\n",
       "  </tbody>\n",
       "</table>\n",
       "</div>"
      ],
      "text/plain": [
       "   Unnamed: 0    country food_category  consumption  co2_emission\n",
       "0           1  Argentina          pork        10.51         37.20\n",
       "1           2  Argentina       poultry        38.66         41.53\n",
       "2           3  Argentina          beef        55.48       1712.00\n",
       "3           4  Argentina     lamb_goat         1.56         54.63\n",
       "4           5  Argentina          fish         4.36          6.96"
      ]
     },
     "execution_count": 14,
     "metadata": {},
     "output_type": "execute_result"
    }
   ],
   "source": [
    "file_id = '1yB5qSBOLl96Y563nIewKOU8RN_gsY3dO'  # Make sure it's a string\n",
    "gdown.download(f'https://drive.google.com/uc?id={file_id}', 'data.csv', quiet=False)\n",
    "\n",
    "# Read the downloaded CSV file\n",
    "df = pd.read_csv('data.csv')\n",
    "df.head()"
   ]
  },
  {
   "cell_type": "code",
   "execution_count": 22,
   "id": "eeaf13d6",
   "metadata": {},
   "outputs": [
    {
     "data": {
      "text/html": [
       "<div>\n",
       "<style scoped>\n",
       "    .dataframe tbody tr th:only-of-type {\n",
       "        vertical-align: middle;\n",
       "    }\n",
       "\n",
       "    .dataframe tbody tr th {\n",
       "        vertical-align: top;\n",
       "    }\n",
       "\n",
       "    .dataframe thead th {\n",
       "        text-align: right;\n",
       "    }\n",
       "</style>\n",
       "<table border=\"1\" class=\"dataframe\">\n",
       "  <thead>\n",
       "    <tr style=\"text-align: right;\">\n",
       "      <th></th>\n",
       "      <th>Unnamed: 0</th>\n",
       "      <th>country</th>\n",
       "      <th>food_category</th>\n",
       "      <th>consumption</th>\n",
       "      <th>co2_emission</th>\n",
       "    </tr>\n",
       "  </thead>\n",
       "  <tbody>\n",
       "    <tr>\n",
       "      <th>2</th>\n",
       "      <td>3</td>\n",
       "      <td>Argentina</td>\n",
       "      <td>beef</td>\n",
       "      <td>55.48</td>\n",
       "      <td>1712.0</td>\n",
       "    </tr>\n",
       "  </tbody>\n",
       "</table>\n",
       "</div>"
      ],
      "text/plain": [
       "   Unnamed: 0    country food_category  consumption  co2_emission\n",
       "2           3  Argentina          beef        55.48        1712.0"
      ]
     },
     "execution_count": 22,
     "metadata": {},
     "output_type": "execute_result"
    }
   ],
   "source": [
    "# Selecting Argentina and Bangladesh\n",
    "arg_beef = df[(df['country'] == 'Argentina') & (df['food_category'] == 'beef')]\n",
    "arg_beef\n"
   ]
  },
  {
   "cell_type": "code",
   "execution_count": 28,
   "id": "90f0c38d",
   "metadata": {},
   "outputs": [
    {
     "data": {
      "text/plain": [
       "2    55.48\n",
       "Name: consumption, dtype: float64"
      ]
     },
     "execution_count": 28,
     "metadata": {},
     "output_type": "execute_result"
    }
   ],
   "source": [
    "arg_beef_cons =arg_beef['consumption']\n",
    "arg_beef_cons"
   ]
  },
  {
   "cell_type": "code",
   "execution_count": 37,
   "id": "b471d3cd",
   "metadata": {},
   "outputs": [
    {
     "name": "stdout",
     "output_type": "stream",
     "text": [
      "Argentina beef consumption Mean: 55.48\n"
     ]
    }
   ],
   "source": [
    "arg_beef_cons_mean = arg_beef_cons.mean()\n",
    "print(f\"Argentina beef consumption Mean: {arg_beef_cons_mean}\")"
   ]
  },
  {
   "cell_type": "code",
   "execution_count": 23,
   "id": "fed0ab6d",
   "metadata": {},
   "outputs": [
    {
     "data": {
      "text/html": [
       "<div>\n",
       "<style scoped>\n",
       "    .dataframe tbody tr th:only-of-type {\n",
       "        vertical-align: middle;\n",
       "    }\n",
       "\n",
       "    .dataframe tbody tr th {\n",
       "        vertical-align: top;\n",
       "    }\n",
       "\n",
       "    .dataframe thead th {\n",
       "        text-align: right;\n",
       "    }\n",
       "</style>\n",
       "<table border=\"1\" class=\"dataframe\">\n",
       "  <thead>\n",
       "    <tr style=\"text-align: right;\">\n",
       "      <th></th>\n",
       "      <th>Unnamed: 0</th>\n",
       "      <th>country</th>\n",
       "      <th>food_category</th>\n",
       "      <th>consumption</th>\n",
       "      <th>co2_emission</th>\n",
       "    </tr>\n",
       "  </thead>\n",
       "  <tbody>\n",
       "    <tr>\n",
       "      <th>1421</th>\n",
       "      <td>1422</td>\n",
       "      <td>Bangladesh</td>\n",
       "      <td>beef</td>\n",
       "      <td>1.28</td>\n",
       "      <td>39.5</td>\n",
       "    </tr>\n",
       "  </tbody>\n",
       "</table>\n",
       "</div>"
      ],
      "text/plain": [
       "      Unnamed: 0     country food_category  consumption  co2_emission\n",
       "1421        1422  Bangladesh          beef         1.28          39.5"
      ]
     },
     "execution_count": 23,
     "metadata": {},
     "output_type": "execute_result"
    }
   ],
   "source": [
    "bang_beef = df[(df['country'] == 'Bangladesh') & (df['food_category'] == 'beef')]\n",
    "bang_beef"
   ]
  },
  {
   "cell_type": "code",
   "execution_count": 35,
   "id": "d181732c",
   "metadata": {},
   "outputs": [
    {
     "data": {
      "text/plain": [
       "1421    1.28\n",
       "Name: consumption, dtype: float64"
      ]
     },
     "execution_count": 35,
     "metadata": {},
     "output_type": "execute_result"
    }
   ],
   "source": [
    "bang_beef_cons =bang_beef['consumption']\n",
    "bang_beef_cons"
   ]
  },
  {
   "cell_type": "code",
   "execution_count": 36,
   "id": "f9ea882b",
   "metadata": {},
   "outputs": [
    {
     "name": "stdout",
     "output_type": "stream",
     "text": [
      "Bangladesh beef consumption Mean: 1.28\n"
     ]
    }
   ],
   "source": [
    "bang_beef_cons_mean = bang_beef_cons.mean()\n",
    "print(f\"Bangladesh beef consumption Mean: {bang_beef_cons_mean}\")"
   ]
  },
  {
   "cell_type": "code",
   "execution_count": 52,
   "id": "7e0eabab",
   "metadata": {},
   "outputs": [
    {
     "name": "stdout",
     "output_type": "stream",
     "text": [
      "T-Statistics: nan\n",
      "P-value: nan\n",
      "We reject the null hypothesis mean of beef consumption in Argentina is equal to mean of beef consumption in Bangladesh \n"
     ]
    }
   ],
   "source": [
    "# to check for significant difference between arg and Bangladesh\n",
    "t_stat, p_val = stats.ttest_1samp(arg_beef_cons_mean, bang_beef_cons_mean)\n",
    "\n",
    "print(f\"T-Statistics: {t_stat}\")\n",
    "print(f\"P-value: {p_val}\")\n",
    "\n",
    "# Interpretation\n",
    "alpha = 0.05\n",
    "\n",
    "if p_val < alpha:\n",
    "    print(\"We fail to reject the null hypothesis mean of beef consumption in Argentina is equal to mean of beef consumption in Bangladesh\")\n",
    "\n",
    "else:\n",
    "    print(\"We reject the null hypothesis mean of beef consumption in Argentina is equal to mean of beef consumption in Bangladesh \")\n",
    "\n",
    "\n",
    "\n"
   ]
  },
  {
   "cell_type": "code",
   "execution_count": null,
   "id": "ec12141e",
   "metadata": {},
   "outputs": [
    {
     "name": "stdout",
     "output_type": "stream",
     "text": [
      "The significant difference between the Mean of Argentina beef consumption and Bangladesh beef consumtip 54.199999999999996\n"
     ]
    }
   ],
   "source": [
    "# to check for significant difference between arg and Bangladesh Meat consumption\n",
    "diff = arg_beef_cons_mean - bang_beef_cons_mean\n",
    "print(\"The significant difference between the Mean of Argentina beef consumption and Bangladesh beef consumption is\", diff)"
   ]
  }
 ],
 "metadata": {
  "kernelspec": {
   "display_name": "linear_algebra",
   "language": "python",
   "name": "python3"
  },
  "language_info": {
   "codemirror_mode": {
    "name": "ipython",
    "version": 3
   },
   "file_extension": ".py",
   "mimetype": "text/x-python",
   "name": "python",
   "nbconvert_exporter": "python",
   "pygments_lexer": "ipython3",
   "version": "3.13.7"
  }
 },
 "nbformat": 4,
 "nbformat_minor": 5
}
